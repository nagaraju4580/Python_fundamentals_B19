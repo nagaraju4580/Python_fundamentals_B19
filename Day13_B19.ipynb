{
 "cells": [
  {
   "cell_type": "code",
   "execution_count": null,
   "metadata": {},
   "outputs": [],
   "source": [
    "#working with classes"
   ]
  },
  {
   "cell_type": "code",
   "execution_count": null,
   "metadata": {},
   "outputs": [],
   "source": [
    "#introduction to classes\n",
    "#A class is a high level program \n",
    "#to define a class, we would require the methods,attributes,self and object"
   ]
  },
  {
   "cell_type": "code",
   "execution_count": null,
   "metadata": {},
   "outputs": [],
   "source": [
    "#requirement: Design a class called a User with 3 methods\n",
    "#1.method to accept the name from a user\n",
    "#2.method to print the username\n",
    "#3.method to greet the user"
   ]
  },
  {
   "cell_type": "code",
   "execution_count": 1,
   "metadata": {},
   "outputs": [],
   "source": [
    "class User:\n",
    "    def createuser(self,name):\n",
    "        self.name=name\n",
    "    def displayname(self):\n",
    "        print(f\"{self.name} is now displaying on the screen\")\n",
    "    def greetuser(self):\n",
    "        print(f\"welcome back after a long weekend, good to see you back {self.name}\")"
   ]
  },
  {
   "cell_type": "code",
   "execution_count": 3,
   "metadata": {},
   "outputs": [
    {
     "name": "stdout",
     "output_type": "stream",
     "text": [
      "prem is now displaying on the screen\n",
      "welcome back after a long weekend, good to see you back prem\n"
     ]
    }
   ],
   "source": [
    "obj=User()\n",
    "obj.createuser('prem')\n",
    "obj.displayname()\n",
    "obj.greetuser()"
   ]
  },
  {
   "cell_type": "code",
   "execution_count": 4,
   "metadata": {},
   "outputs": [],
   "source": [
    "class Student:\n",
    "    def createuser(self,name):\n",
    "        self.name=name\n",
    "    def displayname(self):\n",
    "        print(f\"{self.name} is now displaying on the screen\")\n",
    "    def greetuser(self):\n",
    "        print(f\"welcome back after a long weekend, good to see you back {self.name}\")"
   ]
  },
  {
   "cell_type": "code",
   "execution_count": 9,
   "metadata": {},
   "outputs": [
    {
     "name": "stdout",
     "output_type": "stream",
     "text": [
      "Raj is now displaying on the screen\n",
      "welcome back after a long weekend, good to see you back Raj\n"
     ]
    }
   ],
   "source": [
    "test=Student()\n",
    "test.createuser('Raj')\n",
    "test.displayname()\n",
    "test.greetuser()"
   ]
  },
  {
   "cell_type": "code",
   "execution_count": null,
   "metadata": {},
   "outputs": [],
   "source": []
  }
 ],
 "metadata": {
  "kernelspec": {
   "display_name": "Python 3",
   "language": "python",
   "name": "python3"
  },
  "language_info": {
   "codemirror_mode": {
    "name": "ipython",
    "version": 3
   },
   "file_extension": ".py",
   "mimetype": "text/x-python",
   "name": "python",
   "nbconvert_exporter": "python",
   "pygments_lexer": "ipython3",
   "version": "3.6.4"
  }
 },
 "nbformat": 4,
 "nbformat_minor": 2
}
