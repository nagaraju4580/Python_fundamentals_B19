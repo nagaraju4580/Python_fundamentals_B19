{
 "cells": [
  {
   "cell_type": "code",
   "execution_count": 3,
   "metadata": {},
   "outputs": [],
   "source": [
    "#understanding looping concepts"
   ]
  },
  {
   "cell_type": "code",
   "execution_count": 4,
   "metadata": {},
   "outputs": [
    {
     "name": "stdout",
     "output_type": "stream",
     "text": [
      "['pavan', 'keerthi', 'jyothi', 'laxmi', 'rajini', 'kumar', 'nagaraju', 'narasimha']\n"
     ]
    }
   ],
   "source": [
    "#introductiion to for loop\n",
    "students=['pavan','keerthi','jyothi','laxmi','rajini','kumar','nagaraju','narasimha']\n",
    "print(students)"
   ]
  },
  {
   "cell_type": "code",
   "execution_count": 5,
   "metadata": {},
   "outputs": [
    {
     "data": {
      "text/plain": [
       "list"
      ]
     },
     "execution_count": 5,
     "metadata": {},
     "output_type": "execute_result"
    }
   ],
   "source": [
    "type(students)"
   ]
  },
  {
   "cell_type": "code",
   "execution_count": 6,
   "metadata": {},
   "outputs": [],
   "source": [
    "#requirement: want to appreciate each and every student for completing work on time\n"
   ]
  },
  {
   "cell_type": "code",
   "execution_count": 9,
   "metadata": {},
   "outputs": [
    {
     "name": "stdout",
     "output_type": "stream",
     "text": [
      "keep up the good work,pavan\n"
     ]
    }
   ],
   "source": [
    "print(f\"keep up the good work,{students[0]}\")"
   ]
  },
  {
   "cell_type": "code",
   "execution_count": 10,
   "metadata": {},
   "outputs": [
    {
     "name": "stdout",
     "output_type": "stream",
     "text": [
      "keep up the good work, keerthi\n"
     ]
    }
   ],
   "source": [
    "print(f\"keep up the good work, {students[1]}\")"
   ]
  },
  {
   "cell_type": "code",
   "execution_count": 12,
   "metadata": {},
   "outputs": [
    {
     "name": "stdout",
     "output_type": "stream",
     "text": [
      "keep up the good work, pavan\n",
      "keep up the good work, keerthi\n",
      "keep up the good work, jyothi\n",
      "keep up the good work, laxmi\n",
      "keep up the good work, rajini\n",
      "keep up the good work, kumar\n",
      "keep up the good work, nagaraju\n",
      "keep up the good work, narasimha\n"
     ]
    }
   ],
   "source": [
    "#requirement: want to appreciate all the above students in my list at a single go\n",
    "for student in students:\n",
    "    print(f\"keep up the good work, {student}\")"
   ]
  },
  {
   "cell_type": "code",
   "execution_count": 14,
   "metadata": {},
   "outputs": [
    {
     "name": "stdout",
     "output_type": "stream",
     "text": [
      "['prashanth', 'uma', 'sameer', 'arjun', 'nishanth']\n"
     ]
    }
   ],
   "source": [
    "my_students=['prashanth','uma','sameer','arjun','nishanth']\n",
    "print(my_students)"
   ]
  },
  {
   "cell_type": "code",
   "execution_count": 17,
   "metadata": {},
   "outputs": [
    {
     "name": "stdout",
     "output_type": "stream",
     "text": [
      "keep up the good work, prashanth.\n",
      "I am expecting all our practise notes or github urls to be received.\n",
      "keep up the good work, uma.\n",
      "I am expecting all our practise notes or github urls to be received.\n",
      "keep up the good work, sameer.\n",
      "I am expecting all our practise notes or github urls to be received.\n",
      "keep up the good work, arjun.\n",
      "I am expecting all our practise notes or github urls to be received.\n",
      "keep up the good work, nishanth.\n",
      "I am expecting all our practise notes or github urls to be received.\n"
     ]
    }
   ],
   "source": [
    "#requirement: \n",
    "for a in my_students:\n",
    "    print(f\"keep up the good work, {a}.\")\n",
    "    print(f\"I am expecting all our practise notes or github urls to be received.\")"
   ]
  },
  {
   "cell_type": "code",
   "execution_count": 18,
   "metadata": {},
   "outputs": [
    {
     "name": "stdout",
     "output_type": "stream",
     "text": [
      "keep up the good work, prashanth.\n",
      "I am expecting all our practise notes or github urls to be received.prashanth\n",
      "\n",
      "keep up the good work, uma.\n",
      "I am expecting all our practise notes or github urls to be received.uma\n",
      "\n",
      "keep up the good work, sameer.\n",
      "I am expecting all our practise notes or github urls to be received.sameer\n",
      "\n",
      "keep up the good work, arjun.\n",
      "I am expecting all our practise notes or github urls to be received.arjun\n",
      "\n",
      "keep up the good work, nishanth.\n",
      "I am expecting all our practise notes or github urls to be received.nishanth\n",
      "\n"
     ]
    }
   ],
   "source": [
    "for a in my_students:\n",
    "    print(f\"keep up the good work, {a}.\")\n",
    "    print(f\"I am expecting all our practise notes or github urls to be received.{a}\\n\")"
   ]
  },
  {
   "cell_type": "code",
   "execution_count": null,
   "metadata": {},
   "outputs": [],
   "source": []
  }
 ],
 "metadata": {
  "kernelspec": {
   "display_name": "Python 3",
   "language": "python",
   "name": "python3"
  },
  "language_info": {
   "codemirror_mode": {
    "name": "ipython",
    "version": 3
   },
   "file_extension": ".py",
   "mimetype": "text/x-python",
   "name": "python",
   "nbconvert_exporter": "python",
   "pygments_lexer": "ipython3",
   "version": "3.7.6"
  }
 },
 "nbformat": 4,
 "nbformat_minor": 4
}
