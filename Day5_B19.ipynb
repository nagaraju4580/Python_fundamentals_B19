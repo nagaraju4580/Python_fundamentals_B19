{
 "cells": [
  {
   "cell_type": "code",
   "execution_count": 3,
   "metadata": {},
   "outputs": [],
   "source": [
    "#Introduction top list data type in python\n"
   ]
  },
  {
   "cell_type": "code",
   "execution_count": 5,
   "metadata": {},
   "outputs": [],
   "source": [
    "#Def:A list is a collectiion of items in a particular order\n",
    "#Classsification of a list: It is an muttable data type whcih can be altered, modified or reassigned once it gets declared."
   ]
  },
  {
   "cell_type": "code",
   "execution_count": 6,
   "metadata": {},
   "outputs": [],
   "source": [
    "students=['swetha','vinod','nagaraju','ravi','manisha']"
   ]
  },
  {
   "cell_type": "code",
   "execution_count": 7,
   "metadata": {},
   "outputs": [
    {
     "name": "stdout",
     "output_type": "stream",
     "text": [
      "['swetha', 'vinod', 'nagaraju', 'ravi', 'manisha']\n"
     ]
    }
   ],
   "source": [
    "print(students)"
   ]
  },
  {
   "cell_type": "code",
   "execution_count": 8,
   "metadata": {},
   "outputs": [
    {
     "data": {
      "text/plain": [
       "list"
      ]
     },
     "execution_count": 8,
     "metadata": {},
     "output_type": "execute_result"
    }
   ],
   "source": [
    "type(students)"
   ]
  },
  {
   "cell_type": "code",
   "execution_count": 10,
   "metadata": {},
   "outputs": [],
   "source": [
    "#introduction to concepts of indexing\n",
    "#indexing will be started from 0,1,2,3,...\n",
    "#indexing is utilized to track the positioin of the elements in a list"
   ]
  },
  {
   "cell_type": "code",
   "execution_count": 11,
   "metadata": {},
   "outputs": [
    {
     "name": "stdout",
     "output_type": "stream",
     "text": [
      "nagaraju\n"
     ]
    }
   ],
   "source": [
    "#How to access the elements from a list\n",
    "#want to access 'nagaraju' name on the output\n",
    "print(students[2])"
   ]
  },
  {
   "cell_type": "code",
   "execution_count": 12,
   "metadata": {},
   "outputs": [
    {
     "name": "stdout",
     "output_type": "stream",
     "text": [
      "['swetha', 'vinod', 'nagaraju', 'ravi', 'manisha']\n"
     ]
    }
   ],
   "source": [
    "#How to reassing, modify or alter and remove the elements from a list\n",
    "#1. Reassignment\n",
    "#2. alter or modidy\n",
    "#3. remove or delete\n",
    "print(students)"
   ]
  },
  {
   "cell_type": "code",
   "execution_count": 14,
   "metadata": {},
   "outputs": [
    {
     "name": "stdout",
     "output_type": "stream",
     "text": [
      "['swetha', 'abhinav', 'nagaraju', 'ravi', 'manisha']\n"
     ]
    }
   ],
   "source": [
    "#1. Reassign 'vinod' name with 'abhinav'\n",
    "students[1]='abhinav'\n",
    "print(students)"
   ]
  },
  {
   "cell_type": "code",
   "execution_count": 15,
   "metadata": {},
   "outputs": [
    {
     "name": "stdout",
     "output_type": "stream",
     "text": [
      "['swetha', 'abhinav', 'nagaraju', 'ravi', 'manisha', 'akshara']\n"
     ]
    }
   ],
   "source": [
    "#2. add 'Akshara' name to the list\n",
    "students.append('akshara')\n",
    "print(students)"
   ]
  },
  {
   "cell_type": "code",
   "execution_count": 17,
   "metadata": {},
   "outputs": [
    {
     "name": "stdout",
     "output_type": "stream",
     "text": [
      "['swetha', 'abhinav', 'nagaraju', 'ravi', 'dinesh', 'dinesh', 'manisha', 'akshara']\n"
     ]
    }
   ],
   "source": [
    "#2.I. want to add 'dinesh' at the 4th position\n",
    "students.insert(4,'dinesh')\n",
    "print(students)"
   ]
  },
  {
   "cell_type": "code",
   "execution_count": 19,
   "metadata": {},
   "outputs": [
    {
     "name": "stdout",
     "output_type": "stream",
     "text": [
      "['swetha', 'abhinav', 'ravi', 'dinesh', 'dinesh', 'manisha', 'akshara']\n"
     ]
    }
   ],
   "source": [
    "#3. delete the element from the list\n",
    "#want to delete 'nagaraju' name from the list\n",
    "del students[2]\n",
    "print(students)"
   ]
  },
  {
   "cell_type": "code",
   "execution_count": null,
   "metadata": {},
   "outputs": [],
   "source": []
  }
 ],
 "metadata": {
  "kernelspec": {
   "display_name": "Python 3",
   "language": "python",
   "name": "python3"
  },
  "language_info": {
   "codemirror_mode": {
    "name": "ipython",
    "version": 3
   },
   "file_extension": ".py",
   "mimetype": "text/x-python",
   "name": "python",
   "nbconvert_exporter": "python",
   "pygments_lexer": "ipython3",
   "version": "3.7.6"
  }
 },
 "nbformat": 4,
 "nbformat_minor": 4
}
