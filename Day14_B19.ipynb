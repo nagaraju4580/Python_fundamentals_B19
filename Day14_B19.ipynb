{
 "cells": [
  {
   "cell_type": "code",
   "execution_count": null,
   "metadata": {},
   "outputs": [],
   "source": [
    "Introduction to Contructor"
   ]
  },
  {
   "cell_type": "code",
   "execution_count": null,
   "metadata": {},
   "outputs": [],
   "source": [
    "Req: Creating a dog class with 4 methods\n",
    "    1. sit\n",
    "    2. sleep\n",
    "    3. roll_over\n",
    "    5. jump"
   ]
  },
  {
   "cell_type": "code",
   "execution_count": 8,
   "metadata": {},
   "outputs": [],
   "source": [
    "class dog:\n",
    "    \"\"\"A simple attempt to model a dog.\"\"\"\n",
    "    def __init__(self,name,age):\n",
    "        \"\"\"Initialize name and age attributes\"\"\"\n",
    "        self.name=name\n",
    "        self.age=age\n",
    "        print('code executed')\n",
    "    \n",
    "    def sit(self):\n",
    "        \"\"\"simulate a dog sitting in respect to a command\"\"\"\n",
    "        print(f\"{self.name} is sitting\")\n",
    "    \n",
    "    def sleep(self):\n",
    "        \"\"\"simulate a dog sleeping in respect to a command\"\"\"\n",
    "        print(f\"{self.name} is now sleeping\")\n",
    "    \n",
    "    def roll_over(self):\n",
    "        \"\"\"simulate a dog roll_over based on the command\"\"\"\n",
    "        print(f\"{self.name} is now getting rolled over with respect to the command\")\n",
    "    \n",
    "    def jump(self):\n",
    "        \"\"\"simulate a dog jumping based on the command\"\"\"\n",
    "        print(f\"{self.name} is jumping with respect to the command\")\n",
    "        "
   ]
  },
  {
   "cell_type": "code",
   "execution_count": 10,
   "metadata": {},
   "outputs": [
    {
     "name": "stdout",
     "output_type": "stream",
     "text": [
      "code executed\n"
     ]
    }
   ],
   "source": [
    "obj1=dog('boxcy','3')   #passing the arguments wwhile assigning the object to a class"
   ]
  },
  {
   "cell_type": "code",
   "execution_count": 3,
   "metadata": {},
   "outputs": [
    {
     "name": "stdout",
     "output_type": "stream",
     "text": [
      "boxcy is sitting\n"
     ]
    }
   ],
   "source": [
    "obj1.sit()"
   ]
  },
  {
   "cell_type": "code",
   "execution_count": 11,
   "metadata": {},
   "outputs": [
    {
     "name": "stdout",
     "output_type": "stream",
     "text": [
      "boxcy is now sleeping\n"
     ]
    }
   ],
   "source": [
    "obj1.sleep()"
   ]
  },
  {
   "cell_type": "code",
   "execution_count": 13,
   "metadata": {},
   "outputs": [
    {
     "name": "stdout",
     "output_type": "stream",
     "text": [
      "boxcy is now getting rolled over with respect to the command\n"
     ]
    }
   ],
   "source": [
    "obj1.roll_over()"
   ]
  },
  {
   "cell_type": "code",
   "execution_count": 14,
   "metadata": {},
   "outputs": [
    {
     "name": "stdout",
     "output_type": "stream",
     "text": [
      "boxcy is jumping with respect to the command\n"
     ]
    }
   ],
   "source": [
    "obj1.jump()"
   ]
  },
  {
   "cell_type": "code",
   "execution_count": null,
   "metadata": {},
   "outputs": [],
   "source": []
  }
 ],
 "metadata": {
  "kernelspec": {
   "display_name": "Python 3",
   "language": "python",
   "name": "python3"
  },
  "language_info": {
   "codemirror_mode": {
    "name": "ipython",
    "version": 3
   },
   "file_extension": ".py",
   "mimetype": "text/x-python",
   "name": "python",
   "nbconvert_exporter": "python",
   "pygments_lexer": "ipython3",
   "version": "3.6.4"
  }
 },
 "nbformat": 4,
 "nbformat_minor": 2
}
